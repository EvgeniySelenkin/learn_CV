{
  "nbformat": 4,
  "nbformat_minor": 0,
  "metadata": {
    "colab": {
      "name": "Копия блокнота \"Lab_5.ipynb\"",
      "provenance": [],
      "collapsed_sections": []
    },
    "kernelspec": {
      "name": "python3",
      "display_name": "Python 3"
    },
    "language_info": {
      "name": "python"
    }
  },
  "cells": [
    {
      "cell_type": "code",
      "execution_count": null,
      "metadata": {
        "id": "8dlQ7SgTQ6Vi",
        "colab": {
          "base_uri": "https://localhost:8080/"
        },
        "outputId": "6fe7fcf6-7685-473f-8429-387e07c7f749"
      },
      "outputs": [
        {
          "output_type": "stream",
          "name": "stdout",
          "text": [
            "/usr/bin/python3\n",
            "Installing: numpy\n",
            "Requirement already satisfied: numpy in /usr/local/lib/python3.7/dist-packages (1.21.6)\n",
            "Installing: scipy\n",
            "Requirement already satisfied: scipy in /usr/local/lib/python3.7/dist-packages (1.4.1)\n",
            "Requirement already satisfied: numpy>=1.13.3 in /usr/local/lib/python3.7/dist-packages (from scipy) (1.21.6)\n",
            "Installing: matplotlib\n",
            "Requirement already satisfied: matplotlib in /usr/local/lib/python3.7/dist-packages (3.2.2)\n",
            "Requirement already satisfied: pyparsing!=2.0.4,!=2.1.2,!=2.1.6,>=2.0.1 in /usr/local/lib/python3.7/dist-packages (from matplotlib) (3.0.8)\n",
            "Requirement already satisfied: kiwisolver>=1.0.1 in /usr/local/lib/python3.7/dist-packages (from matplotlib) (1.4.2)\n",
            "Requirement already satisfied: python-dateutil>=2.1 in /usr/local/lib/python3.7/dist-packages (from matplotlib) (2.8.2)\n",
            "Requirement already satisfied: cycler>=0.10 in /usr/local/lib/python3.7/dist-packages (from matplotlib) (0.11.0)\n",
            "Requirement already satisfied: numpy>=1.11 in /usr/local/lib/python3.7/dist-packages (from matplotlib) (1.21.6)\n",
            "Requirement already satisfied: typing-extensions in /usr/local/lib/python3.7/dist-packages (from kiwisolver>=1.0.1->matplotlib) (4.2.0)\n",
            "Requirement already satisfied: six>=1.5 in /usr/local/lib/python3.7/dist-packages (from python-dateutil>=2.1->matplotlib) (1.15.0)\n",
            "Installing: pandas\n",
            "Requirement already satisfied: pandas in /usr/local/lib/python3.7/dist-packages (1.3.5)\n",
            "Requirement already satisfied: pytz>=2017.3 in /usr/local/lib/python3.7/dist-packages (from pandas) (2022.1)\n",
            "Requirement already satisfied: numpy>=1.17.3 in /usr/local/lib/python3.7/dist-packages (from pandas) (1.21.6)\n",
            "Requirement already satisfied: python-dateutil>=2.7.3 in /usr/local/lib/python3.7/dist-packages (from pandas) (2.8.2)\n",
            "Requirement already satisfied: six>=1.5 in /usr/local/lib/python3.7/dist-packages (from python-dateutil>=2.7.3->pandas) (1.15.0)\n",
            "Installing: opencv-python\n",
            "Requirement already satisfied: opencv-python in /usr/local/lib/python3.7/dist-packages (4.1.2.30)\n",
            "Requirement already satisfied: numpy>=1.14.5 in /usr/local/lib/python3.7/dist-packages (from opencv-python) (1.21.6)\n",
            "Installing: opencv-contrib-python\n",
            "Requirement already satisfied: opencv-contrib-python in /usr/local/lib/python3.7/dist-packages (4.1.2.30)\n",
            "Requirement already satisfied: numpy>=1.14.5 in /usr/local/lib/python3.7/dist-packages (from opencv-contrib-python) (1.21.6)\n",
            "Installing: scikit-image\n",
            "Requirement already satisfied: scikit-image in /usr/local/lib/python3.7/dist-packages (0.18.3)\n",
            "Requirement already satisfied: matplotlib!=3.0.0,>=2.0.0 in /usr/local/lib/python3.7/dist-packages (from scikit-image) (3.2.2)\n",
            "Requirement already satisfied: PyWavelets>=1.1.1 in /usr/local/lib/python3.7/dist-packages (from scikit-image) (1.3.0)\n",
            "Requirement already satisfied: scipy>=1.0.1 in /usr/local/lib/python3.7/dist-packages (from scikit-image) (1.4.1)\n",
            "Requirement already satisfied: networkx>=2.0 in /usr/local/lib/python3.7/dist-packages (from scikit-image) (2.6.3)\n",
            "Requirement already satisfied: pillow!=7.1.0,!=7.1.1,>=4.3.0 in /usr/local/lib/python3.7/dist-packages (from scikit-image) (7.1.2)\n",
            "Requirement already satisfied: imageio>=2.3.0 in /usr/local/lib/python3.7/dist-packages (from scikit-image) (2.4.1)\n",
            "Requirement already satisfied: numpy>=1.16.5 in /usr/local/lib/python3.7/dist-packages (from scikit-image) (1.21.6)\n",
            "Requirement already satisfied: tifffile>=2019.7.26 in /usr/local/lib/python3.7/dist-packages (from scikit-image) (2021.11.2)\n",
            "Requirement already satisfied: cycler>=0.10 in /usr/local/lib/python3.7/dist-packages (from matplotlib!=3.0.0,>=2.0.0->scikit-image) (0.11.0)\n",
            "Requirement already satisfied: kiwisolver>=1.0.1 in /usr/local/lib/python3.7/dist-packages (from matplotlib!=3.0.0,>=2.0.0->scikit-image) (1.4.2)\n",
            "Requirement already satisfied: python-dateutil>=2.1 in /usr/local/lib/python3.7/dist-packages (from matplotlib!=3.0.0,>=2.0.0->scikit-image) (2.8.2)\n",
            "Requirement already satisfied: pyparsing!=2.0.4,!=2.1.2,!=2.1.6,>=2.0.1 in /usr/local/lib/python3.7/dist-packages (from matplotlib!=3.0.0,>=2.0.0->scikit-image) (3.0.8)\n",
            "Requirement already satisfied: typing-extensions in /usr/local/lib/python3.7/dist-packages (from kiwisolver>=1.0.1->matplotlib!=3.0.0,>=2.0.0->scikit-image) (4.2.0)\n",
            "Requirement already satisfied: six>=1.5 in /usr/local/lib/python3.7/dist-packages (from python-dateutil>=2.1->matplotlib!=3.0.0,>=2.0.0->scikit-image) (1.15.0)\n",
            "Installing: scikit-learn\n",
            "Requirement already satisfied: scikit-learn in /usr/local/lib/python3.7/dist-packages (1.0.2)\n",
            "Requirement already satisfied: scipy>=1.1.0 in /usr/local/lib/python3.7/dist-packages (from scikit-learn) (1.4.1)\n",
            "Requirement already satisfied: numpy>=1.14.6 in /usr/local/lib/python3.7/dist-packages (from scikit-learn) (1.21.6)\n",
            "Requirement already satisfied: joblib>=0.11 in /usr/local/lib/python3.7/dist-packages (from scikit-learn) (1.1.0)\n",
            "Requirement already satisfied: threadpoolctl>=2.0.0 in /usr/local/lib/python3.7/dist-packages (from scikit-learn) (3.1.0)\n"
          ]
        }
      ],
      "source": [
        "import sys\n",
        "python = sys.executable # get python executable path\n",
        "print(python)\n",
        "\n",
        "for i in [\"numpy\",  \"scipy\", \"matplotlib\", \"pandas\", \"opencv-python\", \"opencv-contrib-python\", \"scikit-image\", \"scikit-learn\",]: # declare what packages we need\n",
        "  print(f\"Installing: {i}\")\n",
        "  ! $python -m pip install $i # install packages calling bash command from the notebook, e.g. \"/usr/bin/python -m pip install numpy\"\n",
        "\n",
        "import numpy as np\n",
        "import matplotlib.pyplot as plt\n",
        "from PIL import Image\n",
        "import urllib.request\n",
        "from tensorflow import keras"
      ]
    },
    {
      "cell_type": "markdown",
      "source": [
        "## Загрузка данных CIFAR-10  \n",
        "x_train: uint8 NumPy array of grayscale image data with shapes (50000, 32, 32, 3), containing the training data. Pixel values range from 0 to 255.\n",
        "\n",
        "y_train: uint8 NumPy array of labels (integers in range 0-9) with shape (50000, 1) for the training data.\n",
        "\n",
        "x_test: uint8 NumPy array of grayscale image data with shapes (10000, 32, 32, 3), containing the test data. Pixel values range from 0 to 255.\n",
        "\n",
        "y_test: uint8 NumPy array of labels (integers in range 0-9) with shape (10000, 1) for the test data."
      ],
      "metadata": {
        "id": "jal1oN5oRD99"
      }
    },
    {
      "cell_type": "code",
      "source": [
        "(x_train, y_train), (x_test, y_test) = keras.datasets.cifar10.load_data()"
      ],
      "metadata": {
        "id": "L6JrwHVTEjeP",
        "colab": {
          "base_uri": "https://localhost:8080/"
        },
        "outputId": "93b48954-584a-4121-d3a1-dd053a7a4a0d"
      },
      "execution_count": null,
      "outputs": [
        {
          "output_type": "stream",
          "name": "stdout",
          "text": [
            "Downloading data from https://www.cs.toronto.edu/~kriz/cifar-10-python.tar.gz\n",
            "170500096/170498071 [==============================] - 6s 0us/step\n",
            "170508288/170498071 [==============================] - 6s 0us/step\n"
          ]
        }
      ]
    },
    {
      "cell_type": "markdown",
      "source": [
        "# Задание 1 Old school image classifier\n",
        "\n"
      ],
      "metadata": {
        "id": "h8lepAo1RMgW"
      }
    },
    {
      "cell_type": "code",
      "source": [
        "import cv2"
      ],
      "metadata": {
        "id": "eT-EpBRXYHKm"
      },
      "execution_count": null,
      "outputs": []
    },
    {
      "cell_type": "code",
      "source": [
        "len(x_train)"
      ],
      "metadata": {
        "colab": {
          "base_uri": "https://localhost:8080/"
        },
        "id": "_RFxsCBuYZlB",
        "outputId": "1b0a0e88-c381-47ae-eaec-e2e235d0bfb6"
      },
      "execution_count": null,
      "outputs": [
        {
          "output_type": "execute_result",
          "data": {
            "text/plain": [
              "50000"
            ]
          },
          "metadata": {},
          "execution_count": 4
        }
      ]
    },
    {
      "cell_type": "code",
      "source": [
        "img = cv2.cvtColor(x_train[0], cv2.COLOR_RGB2GRAY)\n",
        "\n",
        "winSize = (32,32)\n",
        "blockSize = (16,16)\n",
        "blockStride = (8,8)\n",
        "cellSize = (16,16)\n",
        "nbins = 9\n",
        "derivAperture = 1\n",
        "winSigma = -1.\n",
        "histogramNormType = 0\n",
        "L2HysThreshold = 0.2\n",
        "gammaCorrection = 1\n",
        "nlevels = 64\n",
        "signedGradients = True\n",
        " \n",
        "hog = cv2.HOGDescriptor(winSize,blockSize,blockStride,\n",
        "  cellSize,nbins,derivAperture,\n",
        "  winSigma,histogramNormType,L2HysThreshold,\n",
        "  gammaCorrection,nlevels, signedGradients)\n",
        "\n",
        "descriptor = hog.compute(img)\n",
        "\n",
        "x_train_hog = []\n",
        "for img in x_train:\n",
        "  x_train_hog.append(hog.compute(img).ravel())\n",
        "\n",
        "x_test_hog = []\n",
        "for img in x_test:\n",
        "  x_test_hog.append(hog.compute(img).ravel())\n"
      ],
      "metadata": {
        "id": "8ZU8kq7NptvG"
      },
      "execution_count": null,
      "outputs": []
    },
    {
      "cell_type": "code",
      "source": [
        "from sklearn.svm import SVC"
      ],
      "metadata": {
        "id": "CCttlsVbZO6c"
      },
      "execution_count": null,
      "outputs": []
    },
    {
      "cell_type": "code",
      "source": [
        "clf_svm = SVC(gamma='auto', class_weight='balanced')\n",
        "clf_svm.fit(x_train_hog, y_train.ravel())"
      ],
      "metadata": {
        "colab": {
          "base_uri": "https://localhost:8080/"
        },
        "id": "TGnmDAvPZUw2",
        "outputId": "8285732b-ac82-4af1-b242-55ad0ef38948"
      },
      "execution_count": null,
      "outputs": [
        {
          "output_type": "execute_result",
          "data": {
            "text/plain": [
              "SVC(class_weight='balanced', gamma='auto')"
            ]
          },
          "metadata": {},
          "execution_count": 15
        }
      ]
    },
    {
      "cell_type": "code",
      "source": [
        "y_pred_test = clf_svm.predict(x_test_hog)"
      ],
      "metadata": {
        "id": "zu-8pZY5ibRT"
      },
      "execution_count": null,
      "outputs": []
    },
    {
      "cell_type": "code",
      "source": [
        "from sklearn.metrics import accuracy_score"
      ],
      "metadata": {
        "id": "T9g4w_KjjAHx"
      },
      "execution_count": null,
      "outputs": []
    },
    {
      "cell_type": "code",
      "source": [
        "accuracy_score(y_test.ravel(), y_pred_test)"
      ],
      "metadata": {
        "colab": {
          "base_uri": "https://localhost:8080/"
        },
        "id": "Ky8nkQxmjELR",
        "outputId": "296f0aa7-c8ae-4857-9b78-6d4e0c791e06"
      },
      "execution_count": null,
      "outputs": [
        {
          "output_type": "execute_result",
          "data": {
            "text/plain": [
              "0.4329"
            ]
          },
          "metadata": {},
          "execution_count": 17
        }
      ]
    },
    {
      "cell_type": "code",
      "source": [
        "from sklearn.neighbors import KNeighborsClassifier"
      ],
      "metadata": {
        "id": "SxbWJq7Rj6Xw"
      },
      "execution_count": null,
      "outputs": []
    },
    {
      "cell_type": "code",
      "source": [
        "neigh = KNeighborsClassifier(n_neighbors=7)\n",
        "neigh.fit(x_train_hog, y_train.ravel())"
      ],
      "metadata": {
        "colab": {
          "base_uri": "https://localhost:8080/"
        },
        "id": "FM40V3laj_1i",
        "outputId": "3db62e2a-9bf0-40bb-9be7-5095077ae13d"
      },
      "execution_count": null,
      "outputs": [
        {
          "output_type": "execute_result",
          "data": {
            "text/plain": [
              "KNeighborsClassifier(n_neighbors=7)"
            ]
          },
          "metadata": {},
          "execution_count": 34
        }
      ]
    },
    {
      "cell_type": "code",
      "source": [
        "y_pred_test_knn = neigh.predict(x_test_hog)"
      ],
      "metadata": {
        "id": "pCbK6aiNkJDv"
      },
      "execution_count": null,
      "outputs": []
    },
    {
      "cell_type": "code",
      "source": [
        "accuracy_score(y_test.ravel(), y_pred_test_knn)"
      ],
      "metadata": {
        "colab": {
          "base_uri": "https://localhost:8080/"
        },
        "id": "VbPpEX_MkKxO",
        "outputId": "8a9ea54c-c0d2-4b5e-fe2a-c862d6961ea9"
      },
      "execution_count": null,
      "outputs": [
        {
          "output_type": "execute_result",
          "data": {
            "text/plain": [
              "0.4394"
            ]
          },
          "metadata": {},
          "execution_count": 36
        }
      ]
    },
    {
      "cell_type": "markdown",
      "source": [
        "# Задание 2 NN image classifier\n",
        "\n"
      ],
      "metadata": {
        "id": "G8lZrK2FRVjv"
      }
    },
    {
      "cell_type": "code",
      "source": [
        "train_labels_one_hot = keras.utils.to_categorical(y_train)\n",
        "test_labels_one_hot = keras.utils.to_categorical(y_test)"
      ],
      "metadata": {
        "id": "Aszo4vbrlmSF"
      },
      "execution_count": null,
      "outputs": []
    },
    {
      "cell_type": "code",
      "source": [
        "test_labels_one_hot[0]"
      ],
      "metadata": {
        "colab": {
          "base_uri": "https://localhost:8080/"
        },
        "id": "VcBZjH9a1UXo",
        "outputId": "15e0b22e-debb-47c1-a90f-d3f86ae2dd2f"
      },
      "execution_count": null,
      "outputs": [
        {
          "output_type": "execute_result",
          "data": {
            "text/plain": [
              "array([0., 0., 0., 1., 0., 0., 0., 0., 0., 0.], dtype=float32)"
            ]
          },
          "metadata": {},
          "execution_count": 63
        }
      ]
    },
    {
      "cell_type": "code",
      "source": [
        "model = keras.models.Sequential()\n",
        "model.add(keras.layers.Dense(512, activation='relu', input_shape=(81,)))\n",
        "model.add(keras.layers.Dense(512, activation='relu'))\n",
        "model.add(keras.layers.Dense(10, activation='softmax'))"
      ],
      "metadata": {
        "id": "uB-gc_e-lpDv"
      },
      "execution_count": null,
      "outputs": []
    },
    {
      "cell_type": "code",
      "source": [
        "model.compile(optimizer='rmsprop', loss='categorical_crossentropy', metrics=['accuracy'])"
      ],
      "metadata": {
        "id": "1mllh78KlxMO"
      },
      "execution_count": null,
      "outputs": []
    },
    {
      "cell_type": "code",
      "source": [
        "history = model.fit(np.array(x_train_hog), train_labels_one_hot, batch_size=256, epochs=50, verbose=1,\n",
        "                   validation_data=(np.array(x_test_hog), test_labels_one_hot))\n"
      ],
      "metadata": {
        "colab": {
          "base_uri": "https://localhost:8080/"
        },
        "id": "EfMeTShklyrU",
        "outputId": "967d0331-cdc0-4210-9350-c4de60f58291"
      },
      "execution_count": null,
      "outputs": [
        {
          "output_type": "stream",
          "name": "stdout",
          "text": [
            "Epoch 1/50\n",
            "196/196 [==============================] - 3s 17ms/step - loss: 1.1923 - accuracy: 0.5821 - val_loss: 1.3825 - val_accuracy: 0.5186\n",
            "Epoch 2/50\n",
            "196/196 [==============================] - 4s 18ms/step - loss: 1.1773 - accuracy: 0.5891 - val_loss: 1.3937 - val_accuracy: 0.5160\n",
            "Epoch 3/50\n",
            "196/196 [==============================] - 3s 16ms/step - loss: 1.1635 - accuracy: 0.5945 - val_loss: 1.4907 - val_accuracy: 0.4809\n",
            "Epoch 4/50\n",
            "196/196 [==============================] - 3s 16ms/step - loss: 1.1525 - accuracy: 0.5970 - val_loss: 1.4360 - val_accuracy: 0.4954\n",
            "Epoch 5/50\n",
            "196/196 [==============================] - 3s 17ms/step - loss: 1.1340 - accuracy: 0.6028 - val_loss: 1.3382 - val_accuracy: 0.5351\n",
            "Epoch 6/50\n",
            "196/196 [==============================] - 3s 17ms/step - loss: 1.1253 - accuracy: 0.6060 - val_loss: 1.3423 - val_accuracy: 0.5363\n",
            "Epoch 7/50\n",
            "196/196 [==============================] - 4s 19ms/step - loss: 1.1090 - accuracy: 0.6097 - val_loss: 1.3553 - val_accuracy: 0.5338\n",
            "Epoch 8/50\n",
            "196/196 [==============================] - 3s 17ms/step - loss: 1.0895 - accuracy: 0.6179 - val_loss: 1.5097 - val_accuracy: 0.4900\n",
            "Epoch 9/50\n",
            "196/196 [==============================] - 3s 17ms/step - loss: 1.0803 - accuracy: 0.6227 - val_loss: 1.3792 - val_accuracy: 0.5261\n",
            "Epoch 10/50\n",
            "196/196 [==============================] - 3s 16ms/step - loss: 1.0663 - accuracy: 0.6282 - val_loss: 1.3877 - val_accuracy: 0.5258\n",
            "Epoch 11/50\n",
            "196/196 [==============================] - 3s 16ms/step - loss: 1.0513 - accuracy: 0.6325 - val_loss: 1.3781 - val_accuracy: 0.5199\n",
            "Epoch 12/50\n",
            "196/196 [==============================] - 3s 16ms/step - loss: 1.0379 - accuracy: 0.6376 - val_loss: 1.3660 - val_accuracy: 0.5360\n",
            "Epoch 13/50\n",
            "196/196 [==============================] - 3s 17ms/step - loss: 1.0267 - accuracy: 0.6412 - val_loss: 1.5533 - val_accuracy: 0.4847\n",
            "Epoch 14/50\n",
            "196/196 [==============================] - 3s 16ms/step - loss: 1.0134 - accuracy: 0.6494 - val_loss: 1.4081 - val_accuracy: 0.5240\n",
            "Epoch 15/50\n",
            "196/196 [==============================] - 3s 16ms/step - loss: 0.9954 - accuracy: 0.6514 - val_loss: 1.3857 - val_accuracy: 0.5332\n",
            "Epoch 16/50\n",
            "196/196 [==============================] - 3s 17ms/step - loss: 0.9818 - accuracy: 0.6599 - val_loss: 1.5045 - val_accuracy: 0.5026\n",
            "Epoch 17/50\n",
            "196/196 [==============================] - 3s 17ms/step - loss: 0.9667 - accuracy: 0.6631 - val_loss: 1.5600 - val_accuracy: 0.4864\n",
            "Epoch 18/50\n",
            "196/196 [==============================] - 3s 16ms/step - loss: 0.9551 - accuracy: 0.6676 - val_loss: 1.4435 - val_accuracy: 0.5314\n",
            "Epoch 19/50\n",
            "196/196 [==============================] - 3s 16ms/step - loss: 0.9405 - accuracy: 0.6711 - val_loss: 1.3976 - val_accuracy: 0.5384\n",
            "Epoch 20/50\n",
            "196/196 [==============================] - 3s 16ms/step - loss: 0.9278 - accuracy: 0.6767 - val_loss: 1.3710 - val_accuracy: 0.5423\n",
            "Epoch 21/50\n",
            "196/196 [==============================] - 3s 16ms/step - loss: 0.9142 - accuracy: 0.6806 - val_loss: 1.4210 - val_accuracy: 0.5213\n",
            "Epoch 22/50\n",
            "196/196 [==============================] - 3s 16ms/step - loss: 0.9001 - accuracy: 0.6853 - val_loss: 1.4740 - val_accuracy: 0.5224\n",
            "Epoch 23/50\n",
            "196/196 [==============================] - 3s 16ms/step - loss: 0.8858 - accuracy: 0.6937 - val_loss: 1.4826 - val_accuracy: 0.5146\n",
            "Epoch 24/50\n",
            "196/196 [==============================] - 4s 19ms/step - loss: 0.8714 - accuracy: 0.6980 - val_loss: 1.4918 - val_accuracy: 0.5289\n",
            "Epoch 25/50\n",
            "196/196 [==============================] - 3s 16ms/step - loss: 0.8597 - accuracy: 0.6991 - val_loss: 1.5237 - val_accuracy: 0.5183\n",
            "Epoch 26/50\n",
            "196/196 [==============================] - 3s 16ms/step - loss: 0.8425 - accuracy: 0.7095 - val_loss: 1.4327 - val_accuracy: 0.5393\n",
            "Epoch 27/50\n",
            "196/196 [==============================] - 3s 16ms/step - loss: 0.8279 - accuracy: 0.7148 - val_loss: 1.4267 - val_accuracy: 0.5398\n",
            "Epoch 28/50\n",
            "196/196 [==============================] - 3s 16ms/step - loss: 0.8152 - accuracy: 0.7184 - val_loss: 1.4804 - val_accuracy: 0.5242\n",
            "Epoch 29/50\n",
            "196/196 [==============================] - 3s 16ms/step - loss: 0.7993 - accuracy: 0.7240 - val_loss: 1.4851 - val_accuracy: 0.5359\n",
            "Epoch 30/50\n",
            "196/196 [==============================] - 3s 17ms/step - loss: 0.7894 - accuracy: 0.7268 - val_loss: 1.4524 - val_accuracy: 0.5448\n",
            "Epoch 31/50\n",
            "196/196 [==============================] - 3s 17ms/step - loss: 0.7689 - accuracy: 0.7344 - val_loss: 1.4413 - val_accuracy: 0.5408\n",
            "Epoch 32/50\n",
            "196/196 [==============================] - 3s 16ms/step - loss: 0.7608 - accuracy: 0.7368 - val_loss: 1.5108 - val_accuracy: 0.5297\n",
            "Epoch 33/50\n",
            "196/196 [==============================] - 3s 16ms/step - loss: 0.7479 - accuracy: 0.7412 - val_loss: 1.5015 - val_accuracy: 0.5385\n",
            "Epoch 34/50\n",
            "196/196 [==============================] - 3s 16ms/step - loss: 0.7338 - accuracy: 0.7477 - val_loss: 1.5929 - val_accuracy: 0.5095\n",
            "Epoch 35/50\n",
            "196/196 [==============================] - 3s 17ms/step - loss: 0.7214 - accuracy: 0.7501 - val_loss: 1.4669 - val_accuracy: 0.5411\n",
            "Epoch 36/50\n",
            "196/196 [==============================] - 3s 16ms/step - loss: 0.7062 - accuracy: 0.7576 - val_loss: 1.4823 - val_accuracy: 0.5410\n",
            "Epoch 37/50\n",
            "196/196 [==============================] - 3s 17ms/step - loss: 0.6907 - accuracy: 0.7637 - val_loss: 1.6126 - val_accuracy: 0.5092\n",
            "Epoch 38/50\n",
            "196/196 [==============================] - 3s 17ms/step - loss: 0.6799 - accuracy: 0.7669 - val_loss: 1.5310 - val_accuracy: 0.5319\n",
            "Epoch 39/50\n",
            "196/196 [==============================] - 3s 16ms/step - loss: 0.6657 - accuracy: 0.7710 - val_loss: 1.5077 - val_accuracy: 0.5487\n",
            "Epoch 40/50\n",
            "196/196 [==============================] - 3s 16ms/step - loss: 0.6514 - accuracy: 0.7760 - val_loss: 1.6129 - val_accuracy: 0.5255\n",
            "Epoch 41/50\n",
            "196/196 [==============================] - 3s 16ms/step - loss: 0.6407 - accuracy: 0.7809 - val_loss: 1.6000 - val_accuracy: 0.5423\n",
            "Epoch 42/50\n",
            "196/196 [==============================] - 3s 16ms/step - loss: 0.6258 - accuracy: 0.7869 - val_loss: 1.5850 - val_accuracy: 0.5340\n",
            "Epoch 43/50\n",
            "196/196 [==============================] - 3s 16ms/step - loss: 0.6127 - accuracy: 0.7907 - val_loss: 1.5207 - val_accuracy: 0.5446\n",
            "Epoch 44/50\n",
            "196/196 [==============================] - 3s 16ms/step - loss: 0.6008 - accuracy: 0.7975 - val_loss: 1.6429 - val_accuracy: 0.5256\n",
            "Epoch 45/50\n",
            "196/196 [==============================] - 3s 16ms/step - loss: 0.5882 - accuracy: 0.8005 - val_loss: 1.5814 - val_accuracy: 0.5405\n",
            "Epoch 46/50\n",
            "196/196 [==============================] - 3s 16ms/step - loss: 0.5768 - accuracy: 0.8051 - val_loss: 1.6451 - val_accuracy: 0.5323\n",
            "Epoch 47/50\n",
            "196/196 [==============================] - 3s 16ms/step - loss: 0.5639 - accuracy: 0.8094 - val_loss: 1.5770 - val_accuracy: 0.5478\n",
            "Epoch 48/50\n",
            "196/196 [==============================] - 3s 17ms/step - loss: 0.5514 - accuracy: 0.8129 - val_loss: 1.6783 - val_accuracy: 0.5422\n",
            "Epoch 49/50\n",
            "196/196 [==============================] - 3s 17ms/step - loss: 0.5419 - accuracy: 0.8150 - val_loss: 1.7266 - val_accuracy: 0.5274\n",
            "Epoch 50/50\n",
            "196/196 [==============================] - 3s 16ms/step - loss: 0.5289 - accuracy: 0.8213 - val_loss: 1.8736 - val_accuracy: 0.5025\n"
          ]
        }
      ]
    },
    {
      "cell_type": "code",
      "source": [
        "[test_loss, test_acc] = model.evaluate(np.array(x_test_hog), test_labels_one_hot)\n",
        "print(\"Evaluation result on Test Data : Loss = {}, accuracy = {}\".format(test_loss, test_acc))"
      ],
      "metadata": {
        "colab": {
          "base_uri": "https://localhost:8080/"
        },
        "id": "rmyzlr5Bl1dv",
        "outputId": "88965f39-b211-4cd0-ed07-39f1a7e32032"
      },
      "execution_count": null,
      "outputs": [
        {
          "output_type": "stream",
          "name": "stdout",
          "text": [
            "313/313 [==============================] - 1s 3ms/step - loss: 1.8736 - accuracy: 0.5025\n",
            "Evaluation result on Test Data : Loss = 1.8736499547958374, accuracy = 0.5024999976158142\n"
          ]
        }
      ]
    },
    {
      "cell_type": "code",
      "source": [
        "#Plot the Loss Curves\n",
        "plt.figure(figsize=[8,6])\n",
        "plt.plot(history.history['loss'],'r',linewidth=3.0)\n",
        "plt.plot(history.history['val_loss'],'b',linewidth=3.0)\n",
        "plt.legend(['Training loss', 'Validation Loss'],fontsize=18)\n",
        "plt.xlabel('Epochs ',fontsize=16)\n",
        "plt.ylabel('Loss',fontsize=16)\n",
        "plt.title('Loss Curves',fontsize=16)\n",
        " \n",
        "#Plot the Accuracy Curves\n",
        "plt.figure(figsize=[8,6]) \n",
        "plt.plot(history.history['accuracy'],'r',linewidth=3.0) \n",
        "plt.plot(history.history['val_accuracy'],'b',linewidth=3.0) \n",
        "plt.legend(['Training Accuracy', 'Validation Accuracy'],fontsize=18) \n",
        "plt.xlabel('Epochs ',fontsize=16) \n",
        "plt.ylabel('Accuracy',fontsize=16) \n",
        "plt.title('Accuracy Curves',fontsize=16)"
      ],
      "metadata": {
        "colab": {
          "base_uri": "https://localhost:8080/",
          "height": 822
        },
        "id": "kgJaMyY0l_04",
        "outputId": "ac18c2cb-9925-41c3-cf01-939f0d14a2a9"
      },
      "execution_count": null,
      "outputs": [
        {
          "output_type": "execute_result",
          "data": {
            "text/plain": [
              "Text(0.5, 1.0, 'Accuracy Curves')"
            ]
          },
          "metadata": {},
          "execution_count": 73
        },
        {
          "output_type": "display_data",
          "data": {
            "text/plain": [
              "<Figure size 576x432 with 1 Axes>"
            ],
            "image/png": "[encoded data removed]"
          },
          "metadata": {
            "needs_background": "light"
          }
        },
        {
          "output_type": "display_data",
          "data": {
            "text/plain": [
              "<Figure size 576x432 with 1 Axes>"
            ],
            "image/png": "[encoded data removed]"
          },
          "metadata": {
            "needs_background": "light"
          }
        }
      ]
    },
    {
      "cell_type": "code",
      "source": [
        "x_train_pix = []\n",
        "for img in x_train:\n",
        "  x_train_pix.append(img.ravel())\n",
        "\n",
        "x_test_pix = []\n",
        "for img in x_test:\n",
        "  x_test_pix.append(img.ravel())"
      ],
      "metadata": {
        "id": "Z_SkZvuB2Q59"
      },
      "execution_count": null,
      "outputs": []
    },
    {
      "cell_type": "code",
      "source": [
        "model2 = keras.models.Sequential()\n",
        "model2.add(keras.layers.Dense(512, activation='relu', input_shape=(len(x_train_pix[0]),)))\n",
        "model2.add(keras.layers.Dense(512, activation='relu'))\n",
        "model2.add(keras.layers.Dense(10, activation='softmax'))"
      ],
      "metadata": {
        "id": "flLWBwG02Bad"
      },
      "execution_count": null,
      "outputs": []
    },
    {
      "cell_type": "code",
      "source": [
        "model2.compile(optimizer='rmsprop', loss='categorical_crossentropy', metrics=['accuracy'])"
      ],
      "metadata": {
        "id": "Xt9SIydi2F6K"
      },
      "execution_count": null,
      "outputs": []
    },
    {
      "cell_type": "code",
      "source": [
        "history = model2.fit(np.array(x_train_pix), train_labels_one_hot, batch_size=256, epochs=50, verbose=1,\n",
        "                   validation_data=(np.array(x_test_pix), test_labels_one_hot))"
      ],
      "metadata": {
        "colab": {
          "base_uri": "https://localhost:8080/"
        },
        "id": "6TPXMDdU2JEP",
        "outputId": "d76d0f4a-8fde-4499-e802-2af8344e340c"
      },
      "execution_count": null,
      "outputs": [
        {
          "output_type": "stream",
          "name": "stdout",
          "text": [
            "Epoch 1/50\n",
            "196/196 [==============================] - 16s 75ms/step - loss: 155.0566 - accuracy: 0.1074 - val_loss: 10.7129 - val_accuracy: 0.1020\n",
            "Epoch 2/50\n",
            "196/196 [==============================] - 15s 74ms/step - loss: 4.3759 - accuracy: 0.1000 - val_loss: 2.3028 - val_accuracy: 0.1001\n",
            "Epoch 3/50\n",
            "196/196 [==============================] - 14s 71ms/step - loss: 3.2550 - accuracy: 0.0979 - val_loss: 2.3025 - val_accuracy: 0.1002\n",
            "Epoch 4/50\n",
            "196/196 [==============================] - 14s 72ms/step - loss: 2.6048 - accuracy: 0.0979 - val_loss: 2.3028 - val_accuracy: 0.0999\n",
            "Epoch 5/50\n",
            "196/196 [==============================] - 14s 71ms/step - loss: 2.7922 - accuracy: 0.0974 - val_loss: 2.3024 - val_accuracy: 0.1002\n",
            "Epoch 6/50\n",
            "196/196 [==============================] - 15s 78ms/step - loss: 2.3647 - accuracy: 0.0999 - val_loss: 2.3021 - val_accuracy: 0.1003\n",
            "Epoch 7/50\n",
            "196/196 [==============================] - 14s 70ms/step - loss: 2.4151 - accuracy: 0.0980 - val_loss: 2.3022 - val_accuracy: 0.1003\n",
            "Epoch 8/50\n",
            "196/196 [==============================] - 14s 69ms/step - loss: 2.3562 - accuracy: 0.0985 - val_loss: 2.3023 - val_accuracy: 0.1001\n",
            "Epoch 9/50\n",
            "196/196 [==============================] - 14s 70ms/step - loss: 2.3030 - accuracy: 0.0968 - val_loss: 2.3023 - val_accuracy: 0.1002\n",
            "Epoch 10/50\n",
            "196/196 [==============================] - 14s 72ms/step - loss: 2.3027 - accuracy: 0.0981 - val_loss: 2.3023 - val_accuracy: 0.1001\n",
            "Epoch 11/50\n",
            "196/196 [==============================] - 15s 77ms/step - loss: 2.3025 - accuracy: 0.0961 - val_loss: 2.3052 - val_accuracy: 0.1002\n",
            "Epoch 12/50\n",
            "196/196 [==============================] - 15s 76ms/step - loss: 2.3025 - accuracy: 0.0970 - val_loss: 2.3022 - val_accuracy: 0.1003\n",
            "Epoch 13/50\n",
            "196/196 [==============================] - 14s 72ms/step - loss: 2.3025 - accuracy: 0.0983 - val_loss: 2.3022 - val_accuracy: 0.1003\n",
            "Epoch 14/50\n",
            "196/196 [==============================] - 14s 72ms/step - loss: 2.3025 - accuracy: 0.0985 - val_loss: 2.3022 - val_accuracy: 0.1003\n",
            "Epoch 15/50\n",
            "196/196 [==============================] - 13s 68ms/step - loss: 2.3025 - accuracy: 0.0988 - val_loss: 2.3021 - val_accuracy: 0.1002\n",
            "Epoch 16/50\n",
            "196/196 [==============================] - 12s 61ms/step - loss: 2.3025 - accuracy: 0.0978 - val_loss: 2.3021 - val_accuracy: 0.1003\n",
            "Epoch 17/50\n",
            "196/196 [==============================] - 12s 62ms/step - loss: 2.3025 - accuracy: 0.0982 - val_loss: 2.3021 - val_accuracy: 0.1003\n",
            "Epoch 18/50\n",
            "196/196 [==============================] - 12s 61ms/step - loss: 2.3025 - accuracy: 0.0975 - val_loss: 2.3022 - val_accuracy: 0.1003\n",
            "Epoch 19/50\n",
            "196/196 [==============================] - 12s 61ms/step - loss: 2.3025 - accuracy: 0.0983 - val_loss: 2.3021 - val_accuracy: 0.1003\n",
            "Epoch 20/50\n",
            "196/196 [==============================] - 12s 61ms/step - loss: 2.3025 - accuracy: 0.0965 - val_loss: 2.3021 - val_accuracy: 0.1003\n",
            "Epoch 21/50\n",
            "196/196 [==============================] - 12s 61ms/step - loss: 2.3025 - accuracy: 0.0976 - val_loss: 2.3022 - val_accuracy: 0.1003\n",
            "Epoch 22/50\n",
            "196/196 [==============================] - 12s 61ms/step - loss: 2.3025 - accuracy: 0.0997 - val_loss: 2.3021 - val_accuracy: 0.1003\n",
            "Epoch 23/50\n",
            "196/196 [==============================] - 12s 61ms/step - loss: 2.3025 - accuracy: 0.0990 - val_loss: 2.3022 - val_accuracy: 0.1002\n",
            "Epoch 24/50\n",
            "196/196 [==============================] - 12s 61ms/step - loss: 2.3025 - accuracy: 0.0975 - val_loss: 2.3022 - val_accuracy: 0.1002\n",
            "Epoch 25/50\n",
            "196/196 [==============================] - 12s 61ms/step - loss: 2.3025 - accuracy: 0.0987 - val_loss: 2.3021 - val_accuracy: 0.1003\n",
            "Epoch 26/50\n",
            "196/196 [==============================] - 12s 61ms/step - loss: 2.3025 - accuracy: 0.0993 - val_loss: 2.3021 - val_accuracy: 0.1003\n",
            "Epoch 27/50\n",
            "196/196 [==============================] - 12s 61ms/step - loss: 2.3025 - accuracy: 0.0966 - val_loss: 2.3021 - val_accuracy: 0.1002\n",
            "Epoch 28/50\n",
            "196/196 [==============================] - 12s 61ms/step - loss: 2.3025 - accuracy: 0.0982 - val_loss: 2.3022 - val_accuracy: 0.1003\n",
            "Epoch 29/50\n",
            "196/196 [==============================] - 12s 61ms/step - loss: 2.3025 - accuracy: 0.0961 - val_loss: 2.3021 - val_accuracy: 0.1003\n",
            "Epoch 30/50\n",
            "196/196 [==============================] - 12s 61ms/step - loss: 2.3025 - accuracy: 0.0966 - val_loss: 2.3021 - val_accuracy: 0.1003\n",
            "Epoch 31/50\n",
            "196/196 [==============================] - 12s 61ms/step - loss: 2.3025 - accuracy: 0.0968 - val_loss: 2.3022 - val_accuracy: 0.1002\n",
            "Epoch 32/50\n",
            "196/196 [==============================] - 12s 62ms/step - loss: 2.3025 - accuracy: 0.0983 - val_loss: 2.3022 - val_accuracy: 0.1002\n",
            "Epoch 33/50\n",
            "196/196 [==============================] - 12s 62ms/step - loss: 2.3025 - accuracy: 0.0965 - val_loss: 2.3021 - val_accuracy: 0.1003\n",
            "Epoch 34/50\n",
            "196/196 [==============================] - 12s 62ms/step - loss: 2.3025 - accuracy: 0.0970 - val_loss: 2.3021 - val_accuracy: 0.1003\n",
            "Epoch 35/50\n",
            "196/196 [==============================] - 12s 62ms/step - loss: 2.3025 - accuracy: 0.0985 - val_loss: 2.3022 - val_accuracy: 0.1003\n",
            "Epoch 36/50\n",
            "196/196 [==============================] - 12s 61ms/step - loss: 2.3025 - accuracy: 0.0973 - val_loss: 2.3021 - val_accuracy: 0.1003\n",
            "Epoch 37/50\n",
            "196/196 [==============================] - 12s 61ms/step - loss: 2.3025 - accuracy: 0.0986 - val_loss: 2.3021 - val_accuracy: 0.1002\n",
            "Epoch 38/50\n",
            "196/196 [==============================] - 12s 62ms/step - loss: 2.3025 - accuracy: 0.0998 - val_loss: 2.3021 - val_accuracy: 0.1003\n",
            "Epoch 39/50\n",
            "196/196 [==============================] - 12s 61ms/step - loss: 2.3025 - accuracy: 0.0970 - val_loss: 2.3021 - val_accuracy: 0.1002\n",
            "Epoch 40/50\n",
            "196/196 [==============================] - 12s 62ms/step - loss: 2.3025 - accuracy: 0.0987 - val_loss: 2.3022 - val_accuracy: 0.1003\n",
            "Epoch 41/50\n",
            "196/196 [==============================] - 12s 61ms/step - loss: 2.3025 - accuracy: 0.0969 - val_loss: 2.3021 - val_accuracy: 0.1003\n",
            "Epoch 42/50\n",
            "196/196 [==============================] - 12s 62ms/step - loss: 2.3025 - accuracy: 0.0985 - val_loss: 2.3021 - val_accuracy: 0.1003\n",
            "Epoch 43/50\n",
            "196/196 [==============================] - 12s 61ms/step - loss: 2.3025 - accuracy: 0.0987 - val_loss: 2.3022 - val_accuracy: 0.1003\n",
            "Epoch 44/50\n",
            "196/196 [==============================] - 12s 61ms/step - loss: 2.3025 - accuracy: 0.0978 - val_loss: 2.3022 - val_accuracy: 0.1002\n",
            "Epoch 45/50\n",
            "196/196 [==============================] - 12s 61ms/step - loss: 2.3025 - accuracy: 0.0974 - val_loss: 2.3021 - val_accuracy: 0.1003\n",
            "Epoch 46/50\n",
            "196/196 [==============================] - 12s 61ms/step - loss: 2.3025 - accuracy: 0.0986 - val_loss: 2.3021 - val_accuracy: 0.1002\n",
            "Epoch 47/50\n",
            "196/196 [==============================] - 12s 61ms/step - loss: 2.3025 - accuracy: 0.0980 - val_loss: 2.3021 - val_accuracy: 0.1003\n",
            "Epoch 48/50\n",
            "196/196 [==============================] - 12s 61ms/step - loss: 2.3025 - accuracy: 0.0966 - val_loss: 2.3021 - val_accuracy: 0.1002\n",
            "Epoch 49/50\n",
            "196/196 [==============================] - 12s 63ms/step - loss: 2.3025 - accuracy: 0.0975 - val_loss: 2.3021 - val_accuracy: 0.1002\n",
            "Epoch 50/50\n",
            "196/196 [==============================] - 12s 61ms/step - loss: 2.3025 - accuracy: 0.0958 - val_loss: 2.3021 - val_accuracy: 0.1002\n"
          ]
        }
      ]
    },
    {
      "cell_type": "code",
      "source": [
        "[test_loss, test_acc] = model2.evaluate(np.array(x_test_pix), test_labels_one_hot)\n",
        "print(\"Evaluation result on Test Data : Loss = {}, accuracy = {}\".format(test_loss, test_acc))"
      ],
      "metadata": {
        "colab": {
          "base_uri": "https://localhost:8080/"
        },
        "id": "Qz2qw6k22ugH",
        "outputId": "9517323e-c353-453d-e796-70de820c8c9f"
      },
      "execution_count": null,
      "outputs": [
        {
          "output_type": "stream",
          "name": "stdout",
          "text": [
            "313/313 [==============================] - 2s 6ms/step - loss: 2.3021 - accuracy: 0.1002\n",
            "Evaluation result on Test Data : Loss = 2.3021469116210938, accuracy = 0.10019999742507935\n"
          ]
        }
      ]
    },
    {
      "cell_type": "code",
      "source": [
        "#Plot the Loss Curves\n",
        "plt.figure(figsize=[8,6])\n",
        "plt.plot(history.history['loss'],'r',linewidth=3.0)\n",
        "plt.plot(history.history['val_loss'],'b',linewidth=3.0)\n",
        "plt.legend(['Training loss', 'Validation Loss'],fontsize=18)\n",
        "plt.xlabel('Epochs ',fontsize=16)\n",
        "plt.ylabel('Loss',fontsize=16)\n",
        "plt.title('Loss Curves',fontsize=16)\n",
        " \n",
        "#Plot the Accuracy Curves\n",
        "plt.figure(figsize=[8,6]) \n",
        "plt.plot(history.history['accuracy'],'r',linewidth=3.0) \n",
        "plt.plot(history.history['val_accuracy'],'b',linewidth=3.0) \n",
        "plt.legend(['Training Accuracy', 'Validation Accuracy'],fontsize=18) \n",
        "plt.xlabel('Epochs ',fontsize=16) \n",
        "plt.ylabel('Accuracy',fontsize=16) \n",
        "plt.title('Accuracy Curves',fontsize=16)"
      ],
      "metadata": {
        "colab": {
          "base_uri": "https://localhost:8080/",
          "height": 822
        },
        "id": "59HdeAmL2w7v",
        "outputId": "0ff49703-d99a-4e65-89d7-26780a2b1a60"
      },
      "execution_count": null,
      "outputs": [
        {
          "output_type": "execute_result",
          "data": {
            "text/plain": [
              "Text(0.5, 1.0, 'Accuracy Curves')"
            ]
          },
          "metadata": {},
          "execution_count": 29
        },
        {
          "output_type": "display_data",
          "data": {
            "text/plain": [
              "<Figure size 576x432 with 1 Axes>"
            ],
            "image/png": "[encoded data removed]"
          },
          "metadata": {
            "needs_background": "light"
          }
        },
        {
          "output_type": "display_data",
          "data": {
            "text/plain": [
              "<Figure size 576x432 with 1 Axes>"
            ],
            "image/png": "[encoded data removed]"
          },
          "metadata": {
            "needs_background": "light"
          }
        }
      ]
    }
  ]
}